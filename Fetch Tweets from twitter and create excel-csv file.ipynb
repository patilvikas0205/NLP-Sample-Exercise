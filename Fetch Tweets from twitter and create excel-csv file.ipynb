{
 "cells": [
  {
   "cell_type": "code",
   "execution_count": 34,
   "metadata": {},
   "outputs": [],
   "source": [
    "import tweepy\n",
    "import pandas as pd"
   ]
  },
  {
   "cell_type": "code",
   "execution_count": 35,
   "metadata": {},
   "outputs": [],
   "source": [
    "auth=tweepy.OAuthHandler(\"APIKey\", \"API Secrete\")\n",
    "auth.set_access_token(\"Access token\", \"Access token secrete\")\n",
    "api=tweepy.API(auth)"
   ]
  },
  {
   "cell_type": "code",
   "execution_count": 36,
   "metadata": {},
   "outputs": [
    {
     "data": {
      "text/plain": [
       "<tweepy.api.API at 0x12b348408b0>"
      ]
     },
     "execution_count": 36,
     "metadata": {},
     "output_type": "execute_result"
    }
   ],
   "source": [
    "api"
   ]
  },
  {
   "cell_type": "code",
   "execution_count": 45,
   "metadata": {},
   "outputs": [],
   "source": [
    "def tweet_to_csv(username,count):\n",
    "    tweets=tweepy.Cursor(api.user_timeline, id=username).items(count)\n",
    "    tweets_list=[[tweet.created_at, tweet.id, tweet.text] for tweet in tweets]\n",
    "    tweet_df=pd.DataFrame(tweets_list,columns=[\"Twwet_Created\", \"Tweet_Id\",\"Tweets\"])\n",
    "    tweet_df.to_csv('{}-again.csv'.format(username), sep=',', index = False)\n",
    "    return tweets_list"
   ]
  },
  {
   "cell_type": "code",
   "execution_count": 55,
   "metadata": {},
   "outputs": [
    {
     "name": "stdout",
     "output_type": "stream",
     "text": [
      "Enter USername: @uddhavthackeray\n",
      "count: 500\n"
     ]
    }
   ],
   "source": [
    "\n",
    "username = input(\"Enter USername: \")\n",
    "count = int(input(\"count: \"))\n",
    "\n",
    "tweets_list=tweet_to_csv(username, count)"
   ]
  },
  {
   "cell_type": "code",
   "execution_count": 51,
   "metadata": {},
   "outputs": [],
   "source": [
    "retweets=api.retweets(tweets_list[1][1])"
   ]
  },
  {
   "cell_type": "code",
   "execution_count": 53,
   "metadata": {},
   "outputs": [
    {
     "name": "stdout",
     "output_type": "stream",
     "text": [
      "RT @PawarSpeaks: German Engineering has greatly contributed to the  economic development of Maharashtra. Especially in Automobile, Transpor…\n",
      "RT @PawarSpeaks: German Engineering has greatly contributed to the  economic development of Maharashtra. Especially in Automobile, Transpor…\n",
      "RT @PawarSpeaks: German Engineering has greatly contributed to the  economic development of Maharashtra. Especially in Automobile, Transpor…\n",
      "RT @PawarSpeaks: German Engineering has greatly contributed to the  economic development of Maharashtra. Especially in Automobile, Transpor…\n",
      "RT @PawarSpeaks: German Engineering has greatly contributed to the  economic development of Maharashtra. Especially in Automobile, Transpor…\n",
      "RT @PawarSpeaks: German Engineering has greatly contributed to the  economic development of Maharashtra. Especially in Automobile, Transpor…\n",
      "RT @PawarSpeaks: German Engineering has greatly contributed to the  economic development of Maharashtra. Especially in Automobile, Transpor…\n",
      "RT @PawarSpeaks: German Engineering has greatly contributed to the  economic development of Maharashtra. Especially in Automobile, Transpor…\n",
      "RT @PawarSpeaks: German Engineering has greatly contributed to the  economic development of Maharashtra. Especially in Automobile, Transpor…\n",
      "RT @PawarSpeaks: German Engineering has greatly contributed to the  economic development of Maharashtra. Especially in Automobile, Transpor…\n",
      "RT @PawarSpeaks: German Engineering has greatly contributed to the  economic development of Maharashtra. Especially in Automobile, Transpor…\n",
      "RT @PawarSpeaks: German Engineering has greatly contributed to the  economic development of Maharashtra. Especially in Automobile, Transpor…\n",
      "RT @PawarSpeaks: German Engineering has greatly contributed to the  economic development of Maharashtra. Especially in Automobile, Transpor…\n",
      "RT @PawarSpeaks: German Engineering has greatly contributed to the  economic development of Maharashtra. Especially in Automobile, Transpor…\n",
      "RT @PawarSpeaks: German Engineering has greatly contributed to the  economic development of Maharashtra. Especially in Automobile, Transpor…\n",
      "RT @PawarSpeaks: German Engineering has greatly contributed to the  economic development of Maharashtra. Especially in Automobile, Transpor…\n",
      "RT @PawarSpeaks: German Engineering has greatly contributed to the  economic development of Maharashtra. Especially in Automobile, Transpor…\n",
      "RT @PawarSpeaks: German Engineering has greatly contributed to the  economic development of Maharashtra. Especially in Automobile, Transpor…\n",
      "RT @PawarSpeaks: German Engineering has greatly contributed to the  economic development of Maharashtra. Especially in Automobile, Transpor…\n",
      "RT @PawarSpeaks: German Engineering has greatly contributed to the  economic development of Maharashtra. Especially in Automobile, Transpor…\n"
     ]
    }
   ],
   "source": [
    "for t in retweets:\n",
    "    print(t.text)"
   ]
  },
  {
   "cell_type": "code",
   "execution_count": null,
   "metadata": {},
   "outputs": [],
   "source": []
  }
 ],
 "metadata": {
  "kernelspec": {
   "display_name": "Python 3",
   "language": "python",
   "name": "python3"
  },
  "language_info": {
   "codemirror_mode": {
    "name": "ipython",
    "version": 3
   },
   "file_extension": ".py",
   "mimetype": "text/x-python",
   "name": "python",
   "nbconvert_exporter": "python",
   "pygments_lexer": "ipython3",
   "version": "3.8.3"
  }
 },
 "nbformat": 4,
 "nbformat_minor": 4
}
