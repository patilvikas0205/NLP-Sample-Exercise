{
 "cells": [
  {
   "cell_type": "markdown",
   "metadata": {},
   "source": [
    "### Preprocessing using tokenizing"
   ]
  },
  {
   "cell_type": "code",
   "execution_count": 4,
   "metadata": {},
   "outputs": [],
   "source": [
    "text=\"Great location, really pleasant and clean rooms, but the thing that makes this such a good place to stay are the staff. All of the people are incredibly helpful and generous with their time and advice. We travelled with two six year olds and lots of luggage and despite the stairs up to the elevator this was one of the nicest places we stayed in the four weeks we were in Europe.\""
   ]
  },
  {
   "cell_type": "code",
   "execution_count": 5,
   "metadata": {},
   "outputs": [],
   "source": [
    "from nltk.tokenize import sent_tokenize"
   ]
  },
  {
   "cell_type": "code",
   "execution_count": 6,
   "metadata": {},
   "outputs": [],
   "source": [
    "sent_tokenize_list=sent_tokenize(text)"
   ]
  },
  {
   "cell_type": "code",
   "execution_count": 7,
   "metadata": {},
   "outputs": [
    {
     "data": {
      "text/plain": [
       "['Great location, really pleasant and clean rooms, but the thing that makes this such a good place to stay are the staff.',\n",
       " 'All of the people are incredibly helpful and generous with their time and advice.',\n",
       " 'We travelled with two six year olds and lots of luggage and despite the stairs up to the elevator this was one of the nicest places we stayed in the four weeks we were in Europe.']"
      ]
     },
     "execution_count": 7,
     "metadata": {},
     "output_type": "execute_result"
    }
   ],
   "source": [
    "sent_tokenize_list"
   ]
  },
  {
   "cell_type": "code",
   "execution_count": 8,
   "metadata": {},
   "outputs": [],
   "source": [
    "from nltk.tokenize import word_tokenize"
   ]
  },
  {
   "cell_type": "code",
   "execution_count": 9,
   "metadata": {},
   "outputs": [],
   "source": [
    "word_tokenize_list=word_tokenize(text)"
   ]
  },
  {
   "cell_type": "code",
   "execution_count": 10,
   "metadata": {},
   "outputs": [
    {
     "data": {
      "text/plain": [
       "['Great',\n",
       " 'location',\n",
       " ',',\n",
       " 'really',\n",
       " 'pleasant',\n",
       " 'and',\n",
       " 'clean',\n",
       " 'rooms',\n",
       " ',',\n",
       " 'but',\n",
       " 'the',\n",
       " 'thing',\n",
       " 'that',\n",
       " 'makes',\n",
       " 'this',\n",
       " 'such',\n",
       " 'a',\n",
       " 'good',\n",
       " 'place',\n",
       " 'to',\n",
       " 'stay',\n",
       " 'are',\n",
       " 'the',\n",
       " 'staff',\n",
       " '.',\n",
       " 'All',\n",
       " 'of',\n",
       " 'the',\n",
       " 'people',\n",
       " 'are',\n",
       " 'incredibly',\n",
       " 'helpful',\n",
       " 'and',\n",
       " 'generous',\n",
       " 'with',\n",
       " 'their',\n",
       " 'time',\n",
       " 'and',\n",
       " 'advice',\n",
       " '.',\n",
       " 'We',\n",
       " 'travelled',\n",
       " 'with',\n",
       " 'two',\n",
       " 'six',\n",
       " 'year',\n",
       " 'olds',\n",
       " 'and',\n",
       " 'lots',\n",
       " 'of',\n",
       " 'luggage',\n",
       " 'and',\n",
       " 'despite',\n",
       " 'the',\n",
       " 'stairs',\n",
       " 'up',\n",
       " 'to',\n",
       " 'the',\n",
       " 'elevator',\n",
       " 'this',\n",
       " 'was',\n",
       " 'one',\n",
       " 'of',\n",
       " 'the',\n",
       " 'nicest',\n",
       " 'places',\n",
       " 'we',\n",
       " 'stayed',\n",
       " 'in',\n",
       " 'the',\n",
       " 'four',\n",
       " 'weeks',\n",
       " 'we',\n",
       " 'were',\n",
       " 'in',\n",
       " 'Europe',\n",
       " '.']"
      ]
     },
     "execution_count": 10,
     "metadata": {},
     "output_type": "execute_result"
    }
   ],
   "source": [
    "word_tokenize_list"
   ]
  },
  {
   "cell_type": "code",
   "execution_count": 11,
   "metadata": {},
   "outputs": [],
   "source": [
    "word_tokenize_list.remove(',')"
   ]
  },
  {
   "cell_type": "code",
   "execution_count": 12,
   "metadata": {},
   "outputs": [
    {
     "data": {
      "text/plain": [
       "['Great',\n",
       " 'location',\n",
       " 'really',\n",
       " 'pleasant',\n",
       " 'and',\n",
       " 'clean',\n",
       " 'rooms',\n",
       " ',',\n",
       " 'but',\n",
       " 'the',\n",
       " 'thing',\n",
       " 'that',\n",
       " 'makes',\n",
       " 'this',\n",
       " 'such',\n",
       " 'a',\n",
       " 'good',\n",
       " 'place',\n",
       " 'to',\n",
       " 'stay',\n",
       " 'are',\n",
       " 'the',\n",
       " 'staff',\n",
       " '.',\n",
       " 'All',\n",
       " 'of',\n",
       " 'the',\n",
       " 'people',\n",
       " 'are',\n",
       " 'incredibly',\n",
       " 'helpful',\n",
       " 'and',\n",
       " 'generous',\n",
       " 'with',\n",
       " 'their',\n",
       " 'time',\n",
       " 'and',\n",
       " 'advice',\n",
       " '.',\n",
       " 'We',\n",
       " 'travelled',\n",
       " 'with',\n",
       " 'two',\n",
       " 'six',\n",
       " 'year',\n",
       " 'olds',\n",
       " 'and',\n",
       " 'lots',\n",
       " 'of',\n",
       " 'luggage',\n",
       " 'and',\n",
       " 'despite',\n",
       " 'the',\n",
       " 'stairs',\n",
       " 'up',\n",
       " 'to',\n",
       " 'the',\n",
       " 'elevator',\n",
       " 'this',\n",
       " 'was',\n",
       " 'one',\n",
       " 'of',\n",
       " 'the',\n",
       " 'nicest',\n",
       " 'places',\n",
       " 'we',\n",
       " 'stayed',\n",
       " 'in',\n",
       " 'the',\n",
       " 'four',\n",
       " 'weeks',\n",
       " 'we',\n",
       " 'were',\n",
       " 'in',\n",
       " 'Europe',\n",
       " '.']"
      ]
     },
     "execution_count": 12,
     "metadata": {},
     "output_type": "execute_result"
    }
   ],
   "source": [
    "word_tokenize_list"
   ]
  }
 ],
 "metadata": {
  "kernelspec": {
   "display_name": "Python 3",
   "language": "python",
   "name": "python3"
  },
  "language_info": {
   "codemirror_mode": {
    "name": "ipython",
    "version": 3
   },
   "file_extension": ".py",
   "mimetype": "text/x-python",
   "name": "python",
   "nbconvert_exporter": "python",
   "pygments_lexer": "ipython3",
   "version": "3.8.3"
  }
 },
 "nbformat": 4,
 "nbformat_minor": 2
}
