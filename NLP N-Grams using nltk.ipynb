{
 "cells": [
  {
   "cell_type": "code",
   "execution_count": 1,
   "metadata": {},
   "outputs": [],
   "source": [
    "from nltk.tokenize import sent_tokenize, word_tokenize, regexp_tokenize, wordpunct_tokenize"
   ]
  },
  {
   "cell_type": "code",
   "execution_count": 2,
   "metadata": {},
   "outputs": [],
   "source": [
    "from nltk.stem import PorterStemmer, LancasterStemmer, SnowballStemmer"
   ]
  },
  {
   "cell_type": "code",
   "execution_count": 3,
   "metadata": {},
   "outputs": [
    {
     "name": "stdout",
     "output_type": "stream",
     "text": [
      "Porter Stemmer\n",
      "play\n",
      "Lancaster Stemmer\n",
      "play\n",
      "Snowball\n",
      "play\n"
     ]
    }
   ],
   "source": [
    "stemmer = PorterStemmer()\n",
    "print(\"Porter Stemmer\")\n",
    "print(stemmer.stem(\"Played\"))\n",
    "\n",
    "stemmer = LancasterStemmer()\n",
    "print(\"Lancaster Stemmer\")\n",
    "print(stemmer.stem(\"Played\"))\n",
    "\n",
    "stemmer=SnowballStemmer(language=\"english\")\n",
    "print(\"Snowball\")\n",
    "print(stemmer.stem(\"Played\"))\n",
    "\n"
   ]
  },
  {
   "cell_type": "code",
   "execution_count": 4,
   "metadata": {},
   "outputs": [
    {
     "name": "stdout",
     "output_type": "stream",
     "text": [
      "Lemmatizer\n",
      "Played\n"
     ]
    }
   ],
   "source": [
    "from nltk.stem import WordNetLemmatizer\n",
    "lemma=WordNetLemmatizer()\n",
    "print(\"Lemmatizer\")\n",
    "print(lemma.lemmatize(\"Played\",pos=\"n\"))\n",
    "\n"
   ]
  },
  {
   "cell_type": "code",
   "execution_count": 5,
   "metadata": {},
   "outputs": [
    {
     "name": "stdout",
     "output_type": "stream",
     "text": [
      "pos_tag\n",
      "[('Karnataka', 'NNP'), (':', ':'), ('BJP', 'NNP'), (',', ','), ('Congress', 'NNP'), ('claim', 'VBP'), ('big', 'JJ'), ('victory', 'NN'), ('in', 'IN'), ('the', 'DT'), ('panchayat', 'NN'), ('..', 'NN')]\n"
     ]
    }
   ],
   "source": [
    "from nltk import pos_tag\n",
    "text=\"Karnataka: BJP, Congress claim big victory in the panchayat  ..\"\n",
    "words=word_tokenize(text)\n",
    "print(\"pos_tag\")\n",
    "print(pos_tag(words))"
   ]
  },
  {
   "cell_type": "code",
   "execution_count": 6,
   "metadata": {},
   "outputs": [
    {
     "name": "stdout",
     "output_type": "stream",
     "text": [
      "Karnataka BJP Congress claim big victory in the panchayat  \n"
     ]
    }
   ],
   "source": [
    "import re\n",
    "text=\"Karnataka: BJP, Congress claim big victory in the panchayat  ..\"\n",
    "text = re.sub(r'[,;..:]', \"\", text)\n",
    "print(text)\n"
   ]
  },
  {
   "cell_type": "code",
   "execution_count": 7,
   "metadata": {},
   "outputs": [
    {
     "name": "stdout",
     "output_type": "stream",
     "text": [
      "[Synset('computer.n.01'), Synset('calculator.n.01')]\n"
     ]
    }
   ],
   "source": [
    "from nltk.corpus import wordnet\n",
    "print(wordnet.synsets(\"Computer\"))\n"
   ]
  },
  {
   "cell_type": "code",
   "execution_count": 42,
   "metadata": {},
   "outputs": [
    {
     "name": "stdout",
     "output_type": "stream",
     "text": [
      "2 grams ['HI this', 'this is', 'is vikas', 'vikas How', 'How R', 'R u', 'u ?']\n",
      "3 grams ['HI this is', 'this is vikas', 'is vikas How', 'vikas How R', 'How R u', 'R u ?']\n",
      "4 grams ['HI this is vikas', 'this is vikas How', 'is vikas How R', 'vikas How R u', 'How R u ?']\n"
     ]
    }
   ],
   "source": [
    "import nltk\n",
    "from nltk import ngrams\n",
    "st_words=\" HI this is vikas How R u?\"\n",
    "tk_word=nltk.word_tokenize(st_words)\n",
    "for i in range(2,5):\n",
    "    n_grams = ngrams(tk_word, i)\n",
    "    print(i, \"grams\", [' '.join(grams) for grams in n_grams])\n",
    "\n",
    "\n",
    "    "
   ]
  },
  {
   "cell_type": "code",
   "execution_count": null,
   "metadata": {},
   "outputs": [],
   "source": []
  }
 ],
 "metadata": {
  "kernelspec": {
   "display_name": "Python 3",
   "language": "python",
   "name": "python3"
  },
  "language_info": {
   "codemirror_mode": {
    "name": "ipython",
    "version": 3
   },
   "file_extension": ".py",
   "mimetype": "text/x-python",
   "name": "python",
   "nbconvert_exporter": "python",
   "pygments_lexer": "ipython3",
   "version": "3.8.3"
  }
 },
 "nbformat": 4,
 "nbformat_minor": 4
}
